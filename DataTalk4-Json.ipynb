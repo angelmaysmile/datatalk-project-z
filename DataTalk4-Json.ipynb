{
 "cells": [
  {
   "cell_type": "code",
   "execution_count": 1,
   "metadata": {
    "collapsed": true
   },
   "outputs": [],
   "source": [
    "# HOW TO HANDLE JSON DATA\n",
    "import pandas as pd\n",
    "import json"
   ]
  },
  {
   "cell_type": "code",
   "execution_count": 2,
   "metadata": {
    "collapsed": false
   },
   "outputs": [
    {
     "data": {
      "text/html": [
       "<div>\n",
       "<table border=\"1\" class=\"dataframe\">\n",
       "  <thead>\n",
       "    <tr style=\"text-align: right;\">\n",
       "      <th></th>\n",
       "      <th>name</th>\n",
       "      <th>data</th>\n",
       "      <th>type</th>\n",
       "      <th>version</th>\n",
       "    </tr>\n",
       "  </thead>\n",
       "  <tbody>\n",
       "    <tr>\n",
       "      <th>0</th>\n",
       "      <td>Aatrox</td>\n",
       "      <td>{'tags': ['Fighter', 'Tank'], 'title': 'the Da...</td>\n",
       "      <td>champion</td>\n",
       "      <td>7.18.1</td>\n",
       "    </tr>\n",
       "    <tr>\n",
       "      <th>1</th>\n",
       "      <td>Ahri</td>\n",
       "      <td>{'tags': ['Mage', 'Assassin'], 'title': 'the N...</td>\n",
       "      <td>champion</td>\n",
       "      <td>7.18.1</td>\n",
       "    </tr>\n",
       "    <tr>\n",
       "      <th>2</th>\n",
       "      <td>Akali</td>\n",
       "      <td>{'tags': ['Assassin'], 'title': 'the Fist of S...</td>\n",
       "      <td>champion</td>\n",
       "      <td>7.18.1</td>\n",
       "    </tr>\n",
       "    <tr>\n",
       "      <th>3</th>\n",
       "      <td>Alistar</td>\n",
       "      <td>{'tags': ['Tank', 'Support'], 'title': 'the Mi...</td>\n",
       "      <td>champion</td>\n",
       "      <td>7.18.1</td>\n",
       "    </tr>\n",
       "    <tr>\n",
       "      <th>4</th>\n",
       "      <td>Amumu</td>\n",
       "      <td>{'tags': ['Tank', 'Mage'], 'title': 'the Sad M...</td>\n",
       "      <td>champion</td>\n",
       "      <td>7.18.1</td>\n",
       "    </tr>\n",
       "  </tbody>\n",
       "</table>\n",
       "</div>"
      ],
      "text/plain": [
       "      name                                               data      type  \\\n",
       "0   Aatrox  {'tags': ['Fighter', 'Tank'], 'title': 'the Da...  champion   \n",
       "1     Ahri  {'tags': ['Mage', 'Assassin'], 'title': 'the N...  champion   \n",
       "2    Akali  {'tags': ['Assassin'], 'title': 'the Fist of S...  champion   \n",
       "3  Alistar  {'tags': ['Tank', 'Support'], 'title': 'the Mi...  champion   \n",
       "4    Amumu  {'tags': ['Tank', 'Mage'], 'title': 'the Sad M...  champion   \n",
       "\n",
       "  version  \n",
       "0  7.18.1  \n",
       "1  7.18.1  \n",
       "2  7.18.1  \n",
       "3  7.18.1  \n",
       "4  7.18.1  "
      ]
     },
     "execution_count": 2,
     "metadata": {},
     "output_type": "execute_result"
    }
   ],
   "source": [
    "# Open json data\n",
    "with open(\"champion_info_2.json\", \"r+\") as f:\n",
    "    json_data = json.load(f)\n",
    "champion = pd.DataFrame(json_data)\n",
    "champion.reset_index(inplace=True)\n",
    "champion.rename(columns={\"index\": \"name\"}, inplace=True)\n",
    "champion.head()"
   ]
  },
  {
   "cell_type": "code",
   "execution_count": 3,
   "metadata": {
    "collapsed": true
   },
   "outputs": [],
   "source": [
    "# Get all separate keys of the json data\n",
    "columns = []\n",
    "def get_keys(dictionary):\n",
    "    global columns\n",
    "    for k, v in dictionary.items():\n",
    "        if isinstance(v, dict):\n",
    "            get_keys(v)\n",
    "        elif isinstance(v, list):\n",
    "            for item in v:\n",
    "                if isinstance(item, dict):\n",
    "                    get_keys(item)\n",
    "        else:\n",
    "            columns.append(k)\n",
    "\n",
    "# Find all values of a key\n",
    "def find(key, dictionary):\n",
    "    for k, v in dictionary.items():\n",
    "        if k == key:\n",
    "            yield v\n",
    "        elif isinstance(v, dict):\n",
    "            for result in find(key, v):\n",
    "                yield result\n",
    "        elif isinstance(v, list):\n",
    "            for d in v:\n",
    "                if isinstance(d, dict):\n",
    "                    for result in find(key, d):\n",
    "                        yield result"
   ]
  },
  {
   "cell_type": "code",
   "execution_count": 4,
   "metadata": {
    "collapsed": false
   },
   "outputs": [],
   "source": [
    "# Create new columns with the keys\n",
    "for item in champion.data.tolist():\n",
    "    get_keys(item)\n",
    "key_list = set(columns)\n",
    "for key in key_list:\n",
    "    champion[key] = ''"
   ]
  },
  {
   "cell_type": "code",
   "execution_count": 5,
   "metadata": {
    "collapsed": false
   },
   "outputs": [
    {
     "data": {
      "text/html": [
       "<div>\n",
       "<table border=\"1\" class=\"dataframe\">\n",
       "  <thead>\n",
       "    <tr style=\"text-align: right;\">\n",
       "      <th></th>\n",
       "      <th>name</th>\n",
       "      <th>data</th>\n",
       "      <th>type</th>\n",
       "      <th>version</th>\n",
       "      <th>title</th>\n",
       "      <th>key</th>\n",
       "      <th>id</th>\n",
       "    </tr>\n",
       "  </thead>\n",
       "  <tbody>\n",
       "    <tr>\n",
       "      <th>0</th>\n",
       "      <td></td>\n",
       "      <td>{'tags': ['Fighter', 'Tank'], 'title': 'the Da...</td>\n",
       "      <td>champion</td>\n",
       "      <td>7.18.1</td>\n",
       "      <td></td>\n",
       "      <td></td>\n",
       "      <td></td>\n",
       "    </tr>\n",
       "    <tr>\n",
       "      <th>1</th>\n",
       "      <td></td>\n",
       "      <td>{'tags': ['Mage', 'Assassin'], 'title': 'the N...</td>\n",
       "      <td>champion</td>\n",
       "      <td>7.18.1</td>\n",
       "      <td></td>\n",
       "      <td></td>\n",
       "      <td></td>\n",
       "    </tr>\n",
       "    <tr>\n",
       "      <th>2</th>\n",
       "      <td></td>\n",
       "      <td>{'tags': ['Assassin'], 'title': 'the Fist of S...</td>\n",
       "      <td>champion</td>\n",
       "      <td>7.18.1</td>\n",
       "      <td></td>\n",
       "      <td></td>\n",
       "      <td></td>\n",
       "    </tr>\n",
       "    <tr>\n",
       "      <th>3</th>\n",
       "      <td></td>\n",
       "      <td>{'tags': ['Tank', 'Support'], 'title': 'the Mi...</td>\n",
       "      <td>champion</td>\n",
       "      <td>7.18.1</td>\n",
       "      <td></td>\n",
       "      <td></td>\n",
       "      <td></td>\n",
       "    </tr>\n",
       "    <tr>\n",
       "      <th>4</th>\n",
       "      <td></td>\n",
       "      <td>{'tags': ['Tank', 'Mage'], 'title': 'the Sad M...</td>\n",
       "      <td>champion</td>\n",
       "      <td>7.18.1</td>\n",
       "      <td></td>\n",
       "      <td></td>\n",
       "      <td></td>\n",
       "    </tr>\n",
       "  </tbody>\n",
       "</table>\n",
       "</div>"
      ],
      "text/plain": [
       "  name                                               data      type version  \\\n",
       "0       {'tags': ['Fighter', 'Tank'], 'title': 'the Da...  champion  7.18.1   \n",
       "1       {'tags': ['Mage', 'Assassin'], 'title': 'the N...  champion  7.18.1   \n",
       "2       {'tags': ['Assassin'], 'title': 'the Fist of S...  champion  7.18.1   \n",
       "3       {'tags': ['Tank', 'Support'], 'title': 'the Mi...  champion  7.18.1   \n",
       "4       {'tags': ['Tank', 'Mage'], 'title': 'the Sad M...  champion  7.18.1   \n",
       "\n",
       "  title key id  \n",
       "0               \n",
       "1               \n",
       "2               \n",
       "3               \n",
       "4               "
      ]
     },
     "execution_count": 5,
     "metadata": {},
     "output_type": "execute_result"
    }
   ],
   "source": [
    "champion.head()"
   ]
  },
  {
   "cell_type": "code",
   "execution_count": 6,
   "metadata": {
    "collapsed": false
   },
   "outputs": [],
   "source": [
    "# Find value and fill the data frame\n",
    "for i in range(champion.shape[0]):\n",
    "    for key in key_list:\n",
    "        found_value = list(find(key, champion.data[i]))\n",
    "        champion[key][i] = found_value[0] if len(found_value) > 0 else ''"
   ]
  },
  {
   "cell_type": "code",
   "execution_count": 7,
   "metadata": {
    "collapsed": false
   },
   "outputs": [
    {
     "data": {
      "text/html": [
       "<div>\n",
       "<table border=\"1\" class=\"dataframe\">\n",
       "  <thead>\n",
       "    <tr style=\"text-align: right;\">\n",
       "      <th></th>\n",
       "      <th>name</th>\n",
       "      <th>data</th>\n",
       "      <th>type</th>\n",
       "      <th>version</th>\n",
       "      <th>title</th>\n",
       "      <th>key</th>\n",
       "      <th>id</th>\n",
       "    </tr>\n",
       "  </thead>\n",
       "  <tbody>\n",
       "    <tr>\n",
       "      <th>0</th>\n",
       "      <td>Aatrox</td>\n",
       "      <td>{'tags': ['Fighter', 'Tank'], 'title': 'the Da...</td>\n",
       "      <td>champion</td>\n",
       "      <td>7.18.1</td>\n",
       "      <td>the Darkin Blade</td>\n",
       "      <td>Aatrox</td>\n",
       "      <td>266</td>\n",
       "    </tr>\n",
       "    <tr>\n",
       "      <th>1</th>\n",
       "      <td>Ahri</td>\n",
       "      <td>{'tags': ['Mage', 'Assassin'], 'title': 'the N...</td>\n",
       "      <td>champion</td>\n",
       "      <td>7.18.1</td>\n",
       "      <td>the Nine-Tailed Fox</td>\n",
       "      <td>Ahri</td>\n",
       "      <td>103</td>\n",
       "    </tr>\n",
       "    <tr>\n",
       "      <th>2</th>\n",
       "      <td>Akali</td>\n",
       "      <td>{'tags': ['Assassin'], 'title': 'the Fist of S...</td>\n",
       "      <td>champion</td>\n",
       "      <td>7.18.1</td>\n",
       "      <td>the Fist of Shadow</td>\n",
       "      <td>Akali</td>\n",
       "      <td>84</td>\n",
       "    </tr>\n",
       "    <tr>\n",
       "      <th>3</th>\n",
       "      <td>Alistar</td>\n",
       "      <td>{'tags': ['Tank', 'Support'], 'title': 'the Mi...</td>\n",
       "      <td>champion</td>\n",
       "      <td>7.18.1</td>\n",
       "      <td>the Minotaur</td>\n",
       "      <td>Alistar</td>\n",
       "      <td>12</td>\n",
       "    </tr>\n",
       "    <tr>\n",
       "      <th>4</th>\n",
       "      <td>Amumu</td>\n",
       "      <td>{'tags': ['Tank', 'Mage'], 'title': 'the Sad M...</td>\n",
       "      <td>champion</td>\n",
       "      <td>7.18.1</td>\n",
       "      <td>the Sad Mummy</td>\n",
       "      <td>Amumu</td>\n",
       "      <td>32</td>\n",
       "    </tr>\n",
       "  </tbody>\n",
       "</table>\n",
       "</div>"
      ],
      "text/plain": [
       "      name                                               data      type  \\\n",
       "0   Aatrox  {'tags': ['Fighter', 'Tank'], 'title': 'the Da...  champion   \n",
       "1     Ahri  {'tags': ['Mage', 'Assassin'], 'title': 'the N...  champion   \n",
       "2    Akali  {'tags': ['Assassin'], 'title': 'the Fist of S...  champion   \n",
       "3  Alistar  {'tags': ['Tank', 'Support'], 'title': 'the Mi...  champion   \n",
       "4    Amumu  {'tags': ['Tank', 'Mage'], 'title': 'the Sad M...  champion   \n",
       "\n",
       "  version                title      key   id  \n",
       "0  7.18.1     the Darkin Blade   Aatrox  266  \n",
       "1  7.18.1  the Nine-Tailed Fox     Ahri  103  \n",
       "2  7.18.1   the Fist of Shadow    Akali   84  \n",
       "3  7.18.1         the Minotaur  Alistar   12  \n",
       "4  7.18.1        the Sad Mummy    Amumu   32  "
      ]
     },
     "execution_count": 7,
     "metadata": {},
     "output_type": "execute_result"
    }
   ],
   "source": [
    "# Final result\n",
    "champion.head()"
   ]
  },
  {
   "cell_type": "code",
   "execution_count": null,
   "metadata": {
    "collapsed": true
   },
   "outputs": [],
   "source": []
  }
 ],
 "metadata": {
  "kernelspec": {
   "display_name": "Python 3",
   "language": "python",
   "name": "python3"
  },
  "language_info": {
   "codemirror_mode": {
    "name": "ipython",
    "version": 3
   },
   "file_extension": ".py",
   "mimetype": "text/x-python",
   "name": "python",
   "nbconvert_exporter": "python",
   "pygments_lexer": "ipython3",
   "version": "3.6.0"
  }
 },
 "nbformat": 4,
 "nbformat_minor": 2
}
